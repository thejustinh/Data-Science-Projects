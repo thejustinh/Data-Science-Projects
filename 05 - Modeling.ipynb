{
 "cells": [
  {
   "cell_type": "markdown",
   "metadata": {},
   "source": [
    "# 05 - Modeling"
   ]
  },
  {
   "cell_type": "code",
   "execution_count": 1,
   "metadata": {
    "collapsed": false
   },
   "outputs": [],
   "source": [
    "import numpy as np\n",
    "import pandas as pd\n",
    "import matplotlib.pyplot as plt\n",
    "import seaborn as sns\n",
    "from sklearn.linear_model import LogisticRegression\n",
    "from sklearn.model_selection import train_test_split\n",
    "from sklearn.naive_bayes import GaussianNB\n",
    "from sklearn.ensemble import RandomForestClassifier\n",
    "from sklearn.model_selection import cross_val_score\n",
    "from sklearn.metrics import confusion_matrix\n",
    "from sklearn.metrics import accuracy_score\n",
    "from sklearn.feature_extraction.text import CountVectorizer\n",
    "from scipy.optimize import minimize\n",
    "from nltk import word_tokenize\n",
    "from nltk.corpus import stopwords"
   ]
  },
  {
   "cell_type": "markdown",
   "metadata": {},
   "source": [
    "# Part 1 - Sentiment Analysis on Stock Market"
   ]
  },
  {
   "cell_type": "code",
   "execution_count": 2,
   "metadata": {
    "collapsed": false
   },
   "outputs": [
    {
     "data": {
      "text/html": [
       "<div>\n",
       "<table border=\"1\" class=\"dataframe\">\n",
       "  <thead>\n",
       "    <tr style=\"text-align: right;\">\n",
       "      <th></th>\n",
       "      <th>Unnamed: 0</th>\n",
       "      <th>Unnamed: 0.1</th>\n",
       "      <th>Date</th>\n",
       "      <th>Open</th>\n",
       "      <th>High</th>\n",
       "      <th>Low</th>\n",
       "      <th>Close</th>\n",
       "      <th>Volume</th>\n",
       "      <th>Oil_Open</th>\n",
       "      <th>Oil_Settle</th>\n",
       "      <th>...</th>\n",
       "      <th>Top20</th>\n",
       "      <th>Top21</th>\n",
       "      <th>Top22</th>\n",
       "      <th>Top23</th>\n",
       "      <th>Top24</th>\n",
       "      <th>Top25</th>\n",
       "      <th>Compound</th>\n",
       "      <th>Negative</th>\n",
       "      <th>Positive</th>\n",
       "      <th>Neutral</th>\n",
       "    </tr>\n",
       "  </thead>\n",
       "  <tbody>\n",
       "    <tr>\n",
       "      <th>0</th>\n",
       "      <td>0</td>\n",
       "      <td>0</td>\n",
       "      <td>2016-07-01</td>\n",
       "      <td>17924.240234</td>\n",
       "      <td>18002.380859</td>\n",
       "      <td>17916.910156</td>\n",
       "      <td>17949.369141</td>\n",
       "      <td>82160000</td>\n",
       "      <td>48.46</td>\n",
       "      <td>48.99</td>\n",
       "      <td>...</td>\n",
       "      <td>Mass fish kill in Vietnam solved as Taiwan ste...</td>\n",
       "      <td>Philippines president Rodrigo Duterte urges pe...</td>\n",
       "      <td>Spain arrests three Pakistanis accused of prom...</td>\n",
       "      <td>Venezuela, where anger over food shortages is ...</td>\n",
       "      <td>A Hindu temple worker has been killed by three...</td>\n",
       "      <td>Ozone layer hole seems to be healing - US &amp;amp...</td>\n",
       "      <td>-0.9451</td>\n",
       "      <td>0.157</td>\n",
       "      <td>0.092</td>\n",
       "      <td>0.751</td>\n",
       "    </tr>\n",
       "    <tr>\n",
       "      <th>1</th>\n",
       "      <td>1</td>\n",
       "      <td>1</td>\n",
       "      <td>2016-06-30</td>\n",
       "      <td>17712.759766</td>\n",
       "      <td>17930.609375</td>\n",
       "      <td>17711.800781</td>\n",
       "      <td>17929.990234</td>\n",
       "      <td>133030000</td>\n",
       "      <td>49.54</td>\n",
       "      <td>48.33</td>\n",
       "      <td>...</td>\n",
       "      <td>More Than 100 Nobel Laureates Call Out Greenpe...</td>\n",
       "      <td>British pedophile sentenced to 85 years in US ...</td>\n",
       "      <td>US permitted 1,200 offshore fracks in Gulf of ...</td>\n",
       "      <td>We will be swimming in ridicule - French beach...</td>\n",
       "      <td>UEFA says no minutes of silence for Istanbul v...</td>\n",
       "      <td>Law Enforcement Sources: Gun Used in Paris Ter...</td>\n",
       "      <td>-0.9796</td>\n",
       "      <td>0.162</td>\n",
       "      <td>0.060</td>\n",
       "      <td>0.778</td>\n",
       "    </tr>\n",
       "    <tr>\n",
       "      <th>2</th>\n",
       "      <td>2</td>\n",
       "      <td>2</td>\n",
       "      <td>2016-06-29</td>\n",
       "      <td>17456.019531</td>\n",
       "      <td>17704.509766</td>\n",
       "      <td>17456.019531</td>\n",
       "      <td>17694.679688</td>\n",
       "      <td>106380000</td>\n",
       "      <td>48.23</td>\n",
       "      <td>49.88</td>\n",
       "      <td>...</td>\n",
       "      <td>Rupert Murdoch describes Brexit as 'wonderful'...</td>\n",
       "      <td>More than 40 killed in Yemen suicide attacks</td>\n",
       "      <td>Google Found Disastrous Symantec and Norton Vu...</td>\n",
       "      <td>Extremist violence on the rise in Germany: Dom...</td>\n",
       "      <td>BBC News: Labour MPs pass Corbyn no-confidence...</td>\n",
       "      <td>Tiny New Zealand town with 'too many jobs' lau...</td>\n",
       "      <td>-0.9868</td>\n",
       "      <td>0.185</td>\n",
       "      <td>0.075</td>\n",
       "      <td>0.740</td>\n",
       "    </tr>\n",
       "    <tr>\n",
       "      <th>3</th>\n",
       "      <td>3</td>\n",
       "      <td>3</td>\n",
       "      <td>2016-06-28</td>\n",
       "      <td>17190.509766</td>\n",
       "      <td>17409.720703</td>\n",
       "      <td>17190.509766</td>\n",
       "      <td>17409.720703</td>\n",
       "      <td>112190000</td>\n",
       "      <td>46.73</td>\n",
       "      <td>47.85</td>\n",
       "      <td>...</td>\n",
       "      <td>Palestinians stone Western Wall worshipers; po...</td>\n",
       "      <td>Jean-Claude Juncker asks Farage: Why are you h...</td>\n",
       "      <td>\"Romanians for Remainians\" offering a new home...</td>\n",
       "      <td>Brexit: Gibraltar in talks with Scotland to st...</td>\n",
       "      <td>8 Suicide Bombers Strike Lebanon</td>\n",
       "      <td>Mexico's security forces routinely use 'sexual...</td>\n",
       "      <td>-0.8610</td>\n",
       "      <td>0.103</td>\n",
       "      <td>0.073</td>\n",
       "      <td>0.824</td>\n",
       "    </tr>\n",
       "    <tr>\n",
       "      <th>4</th>\n",
       "      <td>4</td>\n",
       "      <td>4</td>\n",
       "      <td>2016-06-27</td>\n",
       "      <td>17355.210938</td>\n",
       "      <td>17355.210938</td>\n",
       "      <td>17063.080078</td>\n",
       "      <td>17140.240234</td>\n",
       "      <td>138740000</td>\n",
       "      <td>47.63</td>\n",
       "      <td>46.33</td>\n",
       "      <td>...</td>\n",
       "      <td>Edward Snowden lawyer vows new push for pardon...</td>\n",
       "      <td>Brexit opinion poll reveals majority don't wan...</td>\n",
       "      <td>Conservative MP Leave Campaigner: \"The leave c...</td>\n",
       "      <td>Economists predict UK recession, further weake...</td>\n",
       "      <td>New EU 'superstate plan by France, Germany: Cr...</td>\n",
       "      <td>Pakistani clerics declare transgender marriage...</td>\n",
       "      <td>-0.9788</td>\n",
       "      <td>0.161</td>\n",
       "      <td>0.048</td>\n",
       "      <td>0.791</td>\n",
       "    </tr>\n",
       "  </tbody>\n",
       "</table>\n",
       "<p>5 rows × 57 columns</p>\n",
       "</div>"
      ],
      "text/plain": [
       "   Unnamed: 0  Unnamed: 0.1        Date          Open          High  \\\n",
       "0           0             0  2016-07-01  17924.240234  18002.380859   \n",
       "1           1             1  2016-06-30  17712.759766  17930.609375   \n",
       "2           2             2  2016-06-29  17456.019531  17704.509766   \n",
       "3           3             3  2016-06-28  17190.509766  17409.720703   \n",
       "4           4             4  2016-06-27  17355.210938  17355.210938   \n",
       "\n",
       "            Low         Close     Volume  Oil_Open  Oil_Settle   ...     \\\n",
       "0  17916.910156  17949.369141   82160000     48.46       48.99   ...      \n",
       "1  17711.800781  17929.990234  133030000     49.54       48.33   ...      \n",
       "2  17456.019531  17694.679688  106380000     48.23       49.88   ...      \n",
       "3  17190.509766  17409.720703  112190000     46.73       47.85   ...      \n",
       "4  17063.080078  17140.240234  138740000     47.63       46.33   ...      \n",
       "\n",
       "                                               Top20  \\\n",
       "0  Mass fish kill in Vietnam solved as Taiwan ste...   \n",
       "1  More Than 100 Nobel Laureates Call Out Greenpe...   \n",
       "2  Rupert Murdoch describes Brexit as 'wonderful'...   \n",
       "3  Palestinians stone Western Wall worshipers; po...   \n",
       "4  Edward Snowden lawyer vows new push for pardon...   \n",
       "\n",
       "                                               Top21  \\\n",
       "0  Philippines president Rodrigo Duterte urges pe...   \n",
       "1  British pedophile sentenced to 85 years in US ...   \n",
       "2       More than 40 killed in Yemen suicide attacks   \n",
       "3  Jean-Claude Juncker asks Farage: Why are you h...   \n",
       "4  Brexit opinion poll reveals majority don't wan...   \n",
       "\n",
       "                                               Top22  \\\n",
       "0  Spain arrests three Pakistanis accused of prom...   \n",
       "1  US permitted 1,200 offshore fracks in Gulf of ...   \n",
       "2  Google Found Disastrous Symantec and Norton Vu...   \n",
       "3  \"Romanians for Remainians\" offering a new home...   \n",
       "4  Conservative MP Leave Campaigner: \"The leave c...   \n",
       "\n",
       "                                               Top23  \\\n",
       "0  Venezuela, where anger over food shortages is ...   \n",
       "1  We will be swimming in ridicule - French beach...   \n",
       "2  Extremist violence on the rise in Germany: Dom...   \n",
       "3  Brexit: Gibraltar in talks with Scotland to st...   \n",
       "4  Economists predict UK recession, further weake...   \n",
       "\n",
       "                                               Top24  \\\n",
       "0  A Hindu temple worker has been killed by three...   \n",
       "1  UEFA says no minutes of silence for Istanbul v...   \n",
       "2  BBC News: Labour MPs pass Corbyn no-confidence...   \n",
       "3                   8 Suicide Bombers Strike Lebanon   \n",
       "4  New EU 'superstate plan by France, Germany: Cr...   \n",
       "\n",
       "                                               Top25  Compound  Negative  \\\n",
       "0  Ozone layer hole seems to be healing - US &amp...   -0.9451     0.157   \n",
       "1  Law Enforcement Sources: Gun Used in Paris Ter...   -0.9796     0.162   \n",
       "2  Tiny New Zealand town with 'too many jobs' lau...   -0.9868     0.185   \n",
       "3  Mexico's security forces routinely use 'sexual...   -0.8610     0.103   \n",
       "4  Pakistani clerics declare transgender marriage...   -0.9788     0.161   \n",
       "\n",
       "   Positive  Neutral  \n",
       "0     0.092    0.751  \n",
       "1     0.060    0.778  \n",
       "2     0.075    0.740  \n",
       "3     0.073    0.824  \n",
       "4     0.048    0.791  \n",
       "\n",
       "[5 rows x 57 columns]"
      ]
     },
     "execution_count": 2,
     "metadata": {},
     "output_type": "execute_result"
    }
   ],
   "source": [
    "data = pd.read_csv(\"/data/thejustinh/DataSentiment.csv\")\n",
    "data.head()"
   ]
  },
  {
   "cell_type": "markdown",
   "metadata": {},
   "source": [
    "Below is a very important aspect when predicting the model. By shifting the sentiment analysis data up one row, we are essentially seeing how the previous day's news and quotes has an affect on the stock/futures and commodities market the following day. In other words, we are testing to predict Y on Date T+1 using news and stock quotes  from date T."
   ]
  },
  {
   "cell_type": "code",
   "execution_count": 3,
   "metadata": {
    "collapsed": false
   },
   "outputs": [],
   "source": [
    "data.Status_change = data.Status_change.shift(+1)\n",
    "data.Oil_Diff = data.Oil_Diff.shift(+1)\n",
    "data.Gas_Diff = data.Gas_Diff.shift(+1)\n",
    "data.Gold_Diff = data.Gold_Diff.shift(+1)\n",
    "\n",
    "data = data[1:]"
   ]
  },
  {
   "cell_type": "markdown",
   "metadata": {},
   "source": [
    "## Features"
   ]
  },
  {
   "cell_type": "markdown",
   "metadata": {},
   "source": [
    "Here we create a feature DataFrame named X with the numerical columns from the original dataset."
   ]
  },
  {
   "cell_type": "code",
   "execution_count": 4,
   "metadata": {
    "collapsed": false
   },
   "outputs": [],
   "source": [
    "X = data[['Open', 'High', 'Low', 'Close', 'Volume', \n",
    "          'Compound', 'Negative', 'Positive', 'Neutral']]"
   ]
  },
  {
   "cell_type": "markdown",
   "metadata": {},
   "source": [
    "Here is the final features we will use."
   ]
  },
  {
   "cell_type": "code",
   "execution_count": 5,
   "metadata": {
    "collapsed": false
   },
   "outputs": [
    {
     "data": {
      "text/plain": [
       "Index(['Open', 'High', 'Low', 'Close', 'Volume', 'Compound', 'Negative',\n",
       "       'Positive', 'Neutral'],\n",
       "      dtype='object')"
      ]
     },
     "execution_count": 5,
     "metadata": {},
     "output_type": "execute_result"
    }
   ],
   "source": [
    "X.columns"
   ]
  },
  {
   "cell_type": "markdown",
   "metadata": {},
   "source": [
    "### Target"
   ]
  },
  {
   "cell_type": "code",
   "execution_count": 6,
   "metadata": {
    "collapsed": false
   },
   "outputs": [
    {
     "data": {
      "text/plain": [
       "1.0    1036\n",
       "0.0     863\n",
       "Name: Status_change, dtype: int64"
      ]
     },
     "execution_count": 6,
     "metadata": {},
     "output_type": "execute_result"
    }
   ],
   "source": [
    "y = data['Status_change']\n",
    "yc = y.value_counts()\n",
    "yc"
   ]
  },
  {
   "cell_type": "markdown",
   "metadata": {},
   "source": [
    "### Train/Test Split"
   ]
  },
  {
   "cell_type": "markdown",
   "metadata": {},
   "source": [
    "Here is a train/test split, with 70% of the data used for training and a random_state=0."
   ]
  },
  {
   "cell_type": "code",
   "execution_count": 7,
   "metadata": {
    "collapsed": false
   },
   "outputs": [],
   "source": [
    "Xtrain, Xtest, ytrain, ytest = train_test_split(X, y, random_state=0, train_size=0.7)"
   ]
  },
  {
   "cell_type": "markdown",
   "metadata": {},
   "source": [
    "### Gaussian Naive-Bayes Classifer"
   ]
  },
  {
   "cell_type": "markdown",
   "metadata": {},
   "source": [
    "Here we use the GaussianNB classifier to: 1) Instantiate the model class, 2) Fit the model with the training data, 3) Use the model to make predictions about the test data."
   ]
  },
  {
   "cell_type": "code",
   "execution_count": 8,
   "metadata": {
    "collapsed": false
   },
   "outputs": [],
   "source": [
    "model1 = GaussianNB()\n",
    "model1.fit(Xtrain, ytrain)\n",
    "ypred1 = model1.predict(Xtest)"
   ]
  },
  {
   "cell_type": "markdown",
   "metadata": {},
   "source": [
    "Accuracy of the model:"
   ]
  },
  {
   "cell_type": "code",
   "execution_count": 9,
   "metadata": {
    "collapsed": false
   },
   "outputs": [
    {
     "data": {
      "text/plain": [
       "0.56491228070175437"
      ]
     },
     "execution_count": 9,
     "metadata": {},
     "output_type": "execute_result"
    }
   ],
   "source": [
    "accuracy_score(ytest, ypred1)"
   ]
  },
  {
   "cell_type": "markdown",
   "metadata": {},
   "source": [
    "### Random Forest Classifier"
   ]
  },
  {
   "cell_type": "code",
   "execution_count": 10,
   "metadata": {
    "collapsed": false
   },
   "outputs": [
    {
     "data": {
      "text/plain": [
       "0.50175438596491229"
      ]
     },
     "execution_count": 10,
     "metadata": {},
     "output_type": "execute_result"
    }
   ],
   "source": [
    "model2 = RandomForestClassifier(n_estimators=100, random_state=0)\n",
    "model2.fit(Xtrain, ytrain)\n",
    "ypred2 = model2.predict(Xtest)\n",
    "accuracy_score(ytest, ypred2)"
   ]
  },
  {
   "cell_type": "markdown",
   "metadata": {},
   "source": [
    "Using cross_val_score to perform k-fold cross validation (k=10) with this model."
   ]
  },
  {
   "cell_type": "code",
   "execution_count": 11,
   "metadata": {
    "collapsed": false,
    "scrolled": false
   },
   "outputs": [
    {
     "data": {
      "text/plain": [
       "array([ 0.47120419,  0.47120419,  0.42931937,  0.48947368,  0.5       ,\n",
       "        0.53157895,  0.47619048,  0.5026455 ,  0.5026455 ,  0.48677249])"
      ]
     },
     "execution_count": 11,
     "metadata": {},
     "output_type": "execute_result"
    }
   ],
   "source": [
    "cross_val_score(model2, X, y, cv=10)"
   ]
  },
  {
   "cell_type": "markdown",
   "metadata": {},
   "source": [
    "Average accuracy and its standard deviation"
   ]
  },
  {
   "cell_type": "code",
   "execution_count": 12,
   "metadata": {
    "collapsed": false
   },
   "outputs": [
    {
     "data": {
      "text/plain": [
       "(0.48610343485240148, 0.02566494622175489)"
      ]
     },
     "execution_count": 12,
     "metadata": {},
     "output_type": "execute_result"
    }
   ],
   "source": [
    "_.mean(), _.std()"
   ]
  },
  {
   "cell_type": "markdown",
   "metadata": {},
   "source": [
    "Confusion matrix for the model."
   ]
  },
  {
   "cell_type": "code",
   "execution_count": 13,
   "metadata": {
    "collapsed": false
   },
   "outputs": [
    {
     "name": "stderr",
     "output_type": "stream",
     "text": [
      "/opt/conda/lib/python3.5/site-packages/matplotlib/font_manager.py:1297: UserWarning: findfont: Font family ['sans-serif'] not found. Falling back to DejaVu Sans\n",
      "  (prop.get_family(), self.defaultFamily[fontext]))\n"
     ]
    },
    {
     "data": {
      "image/png": "[encoded data removed]",
      "text/plain": [
       "<matplotlib.figure.Figure at 0x7f520f9ee160>"
      ]
     },
     "metadata": {},
     "output_type": "display_data"
    }
   ],
   "source": [
    "mat = confusion_matrix(ytest, ypred2)\n",
    "sns.heatmap(mat.T, square=True, annot=True, fmt='d', cbar=False)\n",
    "plt.xlabel('true label')\n",
    "plt.ylabel('predicted label')\n",
    "plt.show()"
   ]
  },
  {
   "cell_type": "markdown",
   "metadata": {},
   "source": [
    "Feature and Importance: 1) Feature: the names of the feature, and 2) the importances of that feature"
   ]
  },
  {
   "cell_type": "code",
   "execution_count": 14,
   "metadata": {
    "collapsed": false,
    "scrolled": true
   },
   "outputs": [
    {
     "data": {
      "text/html": [
       "<div>\n",
       "<table border=\"1\" class=\"dataframe\">\n",
       "  <thead>\n",
       "    <tr style=\"text-align: right;\">\n",
       "      <th></th>\n",
       "      <th>Feature</th>\n",
       "      <th>Importance</th>\n",
       "    </tr>\n",
       "  </thead>\n",
       "  <tbody>\n",
       "    <tr>\n",
       "      <th>4</th>\n",
       "      <td>Volume</td>\n",
       "      <td>0.130656</td>\n",
       "    </tr>\n",
       "    <tr>\n",
       "      <th>5</th>\n",
       "      <td>Compound</td>\n",
       "      <td>0.126213</td>\n",
       "    </tr>\n",
       "    <tr>\n",
       "      <th>8</th>\n",
       "      <td>Neutral</td>\n",
       "      <td>0.118511</td>\n",
       "    </tr>\n",
       "    <tr>\n",
       "      <th>6</th>\n",
       "      <td>Negative</td>\n",
       "      <td>0.109795</td>\n",
       "    </tr>\n",
       "    <tr>\n",
       "      <th>3</th>\n",
       "      <td>Close</td>\n",
       "      <td>0.106711</td>\n",
       "    </tr>\n",
       "    <tr>\n",
       "      <th>1</th>\n",
       "      <td>High</td>\n",
       "      <td>0.105168</td>\n",
       "    </tr>\n",
       "    <tr>\n",
       "      <th>7</th>\n",
       "      <td>Positive</td>\n",
       "      <td>0.104466</td>\n",
       "    </tr>\n",
       "    <tr>\n",
       "      <th>2</th>\n",
       "      <td>Low</td>\n",
       "      <td>0.099332</td>\n",
       "    </tr>\n",
       "    <tr>\n",
       "      <th>0</th>\n",
       "      <td>Open</td>\n",
       "      <td>0.099149</td>\n",
       "    </tr>\n",
       "  </tbody>\n",
       "</table>\n",
       "</div>"
      ],
      "text/plain": [
       "    Feature  Importance\n",
       "4    Volume    0.130656\n",
       "5  Compound    0.126213\n",
       "8   Neutral    0.118511\n",
       "6  Negative    0.109795\n",
       "3     Close    0.106711\n",
       "1      High    0.105168\n",
       "7  Positive    0.104466\n",
       "2       Low    0.099332\n",
       "0      Open    0.099149"
      ]
     },
     "execution_count": 14,
     "metadata": {},
     "output_type": "execute_result"
    }
   ],
   "source": [
    "features = pd.DataFrame({'Feature': X.columns, 'Importance': model2.feature_importances_})\n",
    "features.sort_values('Importance', ascending=False, inplace=True)\n",
    "features"
   ]
  },
  {
   "cell_type": "markdown",
   "metadata": {},
   "source": [
    "As shown from the above, the Gaussian NB classifier had a better accuracy score than the Random Forest Classifier by about 8% on average at 56.5%. Though 57% is a decent accuracy prediction for how volatile the stock market is, there  must be a better way (a better model) to make predictions for the stock market using sentiment analysis. Or if not, could it be possible that this model would work better for a different market? Looking at our data specifically the news headlines, it seems as if some of the trending headlines feature more global events which in turn may not even affect the U.S. stock market at all. In the next part, we take a look at how our model affects the Futures and Commodities, a market where commodities that are traded at a futures exchange such as oil, gas, and gold on a more global level."
   ]
  },
  {
   "cell_type": "markdown",
   "metadata": {},
   "source": [
    "# Part 2 - Sentiment Analysis on Futures and Commodities\n",
    "## Features\n",
    "\n",
    "In this section, we focus on the Crude Oil industry of commodities."
   ]
  },
  {
   "cell_type": "markdown",
   "metadata": {},
   "source": [
    "Here we create a feature DataFrame named X2 with the numerical columns from the original dataset."
   ]
  },
  {
   "cell_type": "code",
   "execution_count": 15,
   "metadata": {
    "collapsed": false
   },
   "outputs": [
    {
     "data": {
      "text/html": [
       "<div>\n",
       "<table border=\"1\" class=\"dataframe\">\n",
       "  <thead>\n",
       "    <tr style=\"text-align: right;\">\n",
       "      <th></th>\n",
       "      <th>Oil_Open</th>\n",
       "      <th>Oil_Settle</th>\n",
       "      <th>Oil_Volume</th>\n",
       "      <th>Compound</th>\n",
       "      <th>Negative</th>\n",
       "      <th>Positive</th>\n",
       "      <th>Neutral</th>\n",
       "    </tr>\n",
       "  </thead>\n",
       "  <tbody>\n",
       "    <tr>\n",
       "      <th>1</th>\n",
       "      <td>49.54</td>\n",
       "      <td>48.33</td>\n",
       "      <td>34723.0</td>\n",
       "      <td>-0.9796</td>\n",
       "      <td>0.162</td>\n",
       "      <td>0.060</td>\n",
       "      <td>0.778</td>\n",
       "    </tr>\n",
       "    <tr>\n",
       "      <th>2</th>\n",
       "      <td>48.23</td>\n",
       "      <td>49.88</td>\n",
       "      <td>48243.0</td>\n",
       "      <td>-0.9868</td>\n",
       "      <td>0.185</td>\n",
       "      <td>0.075</td>\n",
       "      <td>0.740</td>\n",
       "    </tr>\n",
       "    <tr>\n",
       "      <th>3</th>\n",
       "      <td>46.73</td>\n",
       "      <td>47.85</td>\n",
       "      <td>48103.0</td>\n",
       "      <td>-0.8610</td>\n",
       "      <td>0.103</td>\n",
       "      <td>0.073</td>\n",
       "      <td>0.824</td>\n",
       "    </tr>\n",
       "    <tr>\n",
       "      <th>4</th>\n",
       "      <td>47.63</td>\n",
       "      <td>46.33</td>\n",
       "      <td>41059.0</td>\n",
       "      <td>-0.9788</td>\n",
       "      <td>0.161</td>\n",
       "      <td>0.048</td>\n",
       "      <td>0.791</td>\n",
       "    </tr>\n",
       "    <tr>\n",
       "      <th>5</th>\n",
       "      <td>49.85</td>\n",
       "      <td>47.64</td>\n",
       "      <td>67647.0</td>\n",
       "      <td>-0.3400</td>\n",
       "      <td>0.066</td>\n",
       "      <td>0.041</td>\n",
       "      <td>0.893</td>\n",
       "    </tr>\n",
       "  </tbody>\n",
       "</table>\n",
       "</div>"
      ],
      "text/plain": [
       "   Oil_Open  Oil_Settle  Oil_Volume  Compound  Negative  Positive  Neutral\n",
       "1     49.54       48.33     34723.0   -0.9796     0.162     0.060    0.778\n",
       "2     48.23       49.88     48243.0   -0.9868     0.185     0.075    0.740\n",
       "3     46.73       47.85     48103.0   -0.8610     0.103     0.073    0.824\n",
       "4     47.63       46.33     41059.0   -0.9788     0.161     0.048    0.791\n",
       "5     49.85       47.64     67647.0   -0.3400     0.066     0.041    0.893"
      ]
     },
     "execution_count": 15,
     "metadata": {},
     "output_type": "execute_result"
    }
   ],
   "source": [
    "X2 = data[['Oil_Open', 'Oil_Settle', 'Oil_Volume', \n",
    "           'Compound', 'Negative', 'Positive', 'Neutral']]\n",
    "X2.dropna()\n",
    "X2.head()"
   ]
  },
  {
   "cell_type": "markdown",
   "metadata": {},
   "source": [
    "### Target"
   ]
  },
  {
   "cell_type": "code",
   "execution_count": 16,
   "metadata": {
    "collapsed": false,
    "scrolled": true
   },
   "outputs": [
    {
     "data": {
      "text/plain": [
       "0.0    960\n",
       "1.0    939\n",
       "Name: Oil_Diff, dtype: int64"
      ]
     },
     "execution_count": 16,
     "metadata": {},
     "output_type": "execute_result"
    }
   ],
   "source": [
    "y2 = data['Oil_Diff']\n",
    "yc = y2.value_counts()\n",
    "yc"
   ]
  },
  {
   "cell_type": "markdown",
   "metadata": {},
   "source": [
    "### Test/Train Split"
   ]
  },
  {
   "cell_type": "code",
   "execution_count": 17,
   "metadata": {
    "collapsed": true
   },
   "outputs": [],
   "source": [
    "Xtrain, Xtest, ytrain, ytest = train_test_split(X2, y2, random_state=0, train_size=0.7)"
   ]
  },
  {
   "cell_type": "markdown",
   "metadata": {},
   "source": [
    "### Gaussian Naive-Bayes Classifier\n",
    "Here we use the GaussianNB classifier to: 1) Instantiate the model class, 2) Fit the model with the training data, 3) Use the model to make predictions about the test data."
   ]
  },
  {
   "cell_type": "code",
   "execution_count": 18,
   "metadata": {
    "collapsed": false
   },
   "outputs": [],
   "source": [
    "model3 = GaussianNB()\n",
    "model3.fit(Xtrain, ytrain)\n",
    "ypred3 = model3.predict(Xtest)"
   ]
  },
  {
   "cell_type": "markdown",
   "metadata": {},
   "source": [
    "Accuracy of Gaussian NB Classifier:"
   ]
  },
  {
   "cell_type": "code",
   "execution_count": 19,
   "metadata": {
    "collapsed": false
   },
   "outputs": [
    {
     "data": {
      "text/plain": [
       "0.49473684210526314"
      ]
     },
     "execution_count": 19,
     "metadata": {},
     "output_type": "execute_result"
    }
   ],
   "source": [
    "accuracy_score(ytest, ypred3)"
   ]
  },
  {
   "cell_type": "markdown",
   "metadata": {},
   "source": [
    "### Random Forest Classifier"
   ]
  },
  {
   "cell_type": "code",
   "execution_count": 20,
   "metadata": {
    "collapsed": true
   },
   "outputs": [],
   "source": [
    "model4 = RandomForestClassifier(n_estimators=100, random_state=0)\n",
    "model4.fit(Xtrain, ytrain)\n",
    "ypred4 = model4.predict(Xtest)"
   ]
  },
  {
   "cell_type": "markdown",
   "metadata": {},
   "source": [
    "Accuracy of Random Forest Classifier:"
   ]
  },
  {
   "cell_type": "code",
   "execution_count": 21,
   "metadata": {
    "collapsed": false
   },
   "outputs": [
    {
     "data": {
      "text/plain": [
       "0.52280701754385961"
      ]
     },
     "execution_count": 21,
     "metadata": {},
     "output_type": "execute_result"
    }
   ],
   "source": [
    "accuracy_score(ytest, ypred4)"
   ]
  },
  {
   "cell_type": "code",
   "execution_count": 22,
   "metadata": {
    "collapsed": false
   },
   "outputs": [
    {
     "data": {
      "text/html": [
       "<div>\n",
       "<table border=\"1\" class=\"dataframe\">\n",
       "  <thead>\n",
       "    <tr style=\"text-align: right;\">\n",
       "      <th></th>\n",
       "      <th>Feature</th>\n",
       "      <th>Importance</th>\n",
       "    </tr>\n",
       "  </thead>\n",
       "  <tbody>\n",
       "    <tr>\n",
       "      <th>2</th>\n",
       "      <td>Oil_Volume</td>\n",
       "      <td>0.158095</td>\n",
       "    </tr>\n",
       "    <tr>\n",
       "      <th>1</th>\n",
       "      <td>Oil_Settle</td>\n",
       "      <td>0.157733</td>\n",
       "    </tr>\n",
       "    <tr>\n",
       "      <th>0</th>\n",
       "      <td>Oil_Open</td>\n",
       "      <td>0.148630</td>\n",
       "    </tr>\n",
       "    <tr>\n",
       "      <th>3</th>\n",
       "      <td>Compound</td>\n",
       "      <td>0.139282</td>\n",
       "    </tr>\n",
       "    <tr>\n",
       "      <th>6</th>\n",
       "      <td>Neutral</td>\n",
       "      <td>0.139186</td>\n",
       "    </tr>\n",
       "    <tr>\n",
       "      <th>5</th>\n",
       "      <td>Positive</td>\n",
       "      <td>0.130577</td>\n",
       "    </tr>\n",
       "    <tr>\n",
       "      <th>4</th>\n",
       "      <td>Negative</td>\n",
       "      <td>0.126498</td>\n",
       "    </tr>\n",
       "  </tbody>\n",
       "</table>\n",
       "</div>"
      ],
      "text/plain": [
       "      Feature  Importance\n",
       "2  Oil_Volume    0.158095\n",
       "1  Oil_Settle    0.157733\n",
       "0    Oil_Open    0.148630\n",
       "3    Compound    0.139282\n",
       "6     Neutral    0.139186\n",
       "5    Positive    0.130577\n",
       "4    Negative    0.126498"
      ]
     },
     "execution_count": 22,
     "metadata": {},
     "output_type": "execute_result"
    }
   ],
   "source": [
    "features = pd.DataFrame({'Feature': X2.columns, 'Importance': model4.feature_importances_})\n",
    "features.sort_values('Importance', ascending=False, inplace=True)\n",
    "features"
   ]
  },
  {
   "cell_type": "markdown",
   "metadata": {},
   "source": [
    "Unfortunately, our model was worse for predicting if the price of oil was going to increase or decrease the following day. It even seems as if our sentiment analysis werent as helpful in predition as shown thorugh the features' importance. In the next part, we take a look at a more advanced model in natural language processing to hopefully make a better prediction instead of using sentiment analysis."
   ]
  },
  {
   "cell_type": "markdown",
   "metadata": {},
   "source": [
    "# Part 3 - Bag of Words Model on the Stock Market"
   ]
  },
  {
   "cell_type": "markdown",
   "metadata": {},
   "source": [
    "From wikipedia: \"The bag-of-words model is a simplifying representation used in natural language processing and information retrieval (IR). In this model, a text (such as a sentence or a document) is represented as the bag (multiset) of its words, disregarding grammar and even word order but keeping multiplicity. The bag-of-words model has also been used for computer vision.\n",
    "\n",
    "The bag-of-words model is commonly used in methods of document classification where the (frequency of) occurrence of each word is used as a feature for training a classifier.\"\n",
    "\n",
    "In this case, we will place all of our headlines into a \"bag\" and count the words as we pull them out."
   ]
  },
  {
   "cell_type": "code",
   "execution_count": 23,
   "metadata": {
    "collapsed": false
   },
   "outputs": [],
   "source": [
    "data = pd.read_csv(\"/data/thejustinh/DataSentiment.csv\")"
   ]
  },
  {
   "cell_type": "markdown",
   "metadata": {},
   "source": [
    "Here we shift the column by 1 that states if a market is a bull or bear market the following day. This is done so we can predict what the market will be on day T+1 given prices, quotes, and news on day T."
   ]
  },
  {
   "cell_type": "code",
   "execution_count": 24,
   "metadata": {
    "collapsed": true
   },
   "outputs": [],
   "source": [
    "data.Status_change = data.Status_change.shift(+1)\n",
    "data = data[1:]"
   ]
  },
  {
   "cell_type": "markdown",
   "metadata": {},
   "source": [
    "Here is our training set that is yet to be cleaned - stop words still need to be removed as well as punctuation"
   ]
  },
  {
   "cell_type": "code",
   "execution_count": 25,
   "metadata": {
    "collapsed": false
   },
   "outputs": [],
   "source": [
    "train_news = data.loc[:, 'Top1':'Top25']"
   ]
  },
  {
   "cell_type": "code",
   "execution_count": 26,
   "metadata": {
    "collapsed": true
   },
   "outputs": [],
   "source": [
    "def remove_punc_stop(words):\n",
    "    stop = stopwords.words('english')\n",
    "    punc = ['', '\\'', '\"\\'\"', '\\'\\'', '\\''', ',';', '(', ')', ',', '.', ':', '\\'s', \n",
    "            '\\`\\`', 'b', '?', '!', '-', '&', '--', '[', ']', '|', '%', '``', '`']\n",
    "    l = word_tokenize(words)\n",
    "    return [i for i in l if i not in stop and i not in punc]"
   ]
  },
  {
   "cell_type": "markdown",
   "metadata": {},
   "source": [
    "Below we \"clean\" our training set with a list of stop words provided by NLTK and funky punctiations, saving the result into an array called \"clean_train_news\"."
   ]
  },
  {
   "cell_type": "code",
   "execution_count": 27,
   "metadata": {
    "collapsed": false
   },
   "outputs": [],
   "source": [
    "headlines = \"\"\n",
    "clean_train_news = []\n",
    "for index, row in train_news.iterrows():\n",
    "    for x in row:\n",
    "        headlines += str(x).lower()\n",
    "    clean_train_news.append(' '.join(remove_punc_stop(headlines)))\n",
    "    headlines = \"\""
   ]
  },
  {
   "cell_type": "code",
   "execution_count": 28,
   "metadata": {
    "collapsed": false
   },
   "outputs": [
    {
     "data": {
      "text/plain": [
       "\"jamaica proposes marijuana dispensers tourists airports following legalisation kiosks desks would give people license purchase 2 ounces drug use staystephen hawking says pollution 'stupidity still biggest threats mankind certainly become less greedy less stupid treatment environment past decadeboris johnson says run tory party leadershipsix gay men ivory coast abused forced flee homes pictured signing condolence book victims recent attack gay nightclub floridaswitzerland denies citizenship muslim immigrant girls refused swim boys reportpalestinian terrorist stabs israeli teen girl death bedroompuerto rico default $ 1 billion debt fridayrepublic ireland fans awarded medal sportsmanship paris mayor.afghan suicide bomber 'kills 40 bbc newsus airstrikes kill least 250 isis fighters convoy outside fallujah official saysturkish cop took istanbul gunman hailed herocannabis compounds could treat alzheimer removing plaque-forming proteins brain cells research suggestsjapan top court approved blanket surveillance country muslims 'they made us terrorist suspects never anything wrong says japanese muslim mohammed fujitacia gave romania millions host secret prisonsgroups urge u.n. suspend saudi arabia rights councilgoogles free wifi indian railway stations better countrys paid servicesmounting evidence suggests 'hobbits wiped modern humans ancestors 50,000 years ago.the men carried tuesday terror attack istanbul ataturk airport russia uzbekistan kyrgyzstan turkish offical said.calls suspend saudi arabia un human rights council military aggresion yemenmore 100 nobel laureates call greenpeace anti-gmo obstruction developing worldbritish pedophile sentenced 85 years us trafficking child abuse images domminich shaw kingpin sexual violence children sent dozens images online discussed plans assault kill child probationus permitted 1,200 offshore fracks gulf mexico 2010 2014 allowed 72 billion gallons chemical discharge 2014.we swimming ridicule french beach police carry guns swimming trunks police lifeguards frances busiest beaches carry guns bullet-proof vests first time summer amid fears terrorists could target holidaymakers.uefa says minutes silence istanbul victims euro 2016 'turkey already eliminated'law enforcement sources gun used paris terrorist attacks came phoenix\""
      ]
     },
     "execution_count": 28,
     "metadata": {},
     "output_type": "execute_result"
    }
   ],
   "source": [
    "clean_train_news[0]"
   ]
  },
  {
   "cell_type": "markdown",
   "metadata": {},
   "source": [
    "Below, we initialize the \"CountVectorizer\" object, which is scikit-learn's bag of words tool. \n",
    "\n",
    "Fit_transform() does two functions: 1) It fits the model and learns the vocabulary and 2) It transforms our training data into feature vectors. The input to fit_transform should be a list of strings."
   ]
  },
  {
   "cell_type": "code",
   "execution_count": 29,
   "metadata": {
    "collapsed": false
   },
   "outputs": [],
   "source": [
    "vectorizer = CountVectorizer(analyzer = \"word\", tokenizer = None,\n",
    "                             preprocessor = None, stop_words = None,\n",
    "                             max_features = 5000)\n",
    "train_data_features = vectorizer.fit_transform(clean_train_news)\n",
    "train_data_features = train_data_features.toarray()"
   ]
  },
  {
   "cell_type": "code",
   "execution_count": 30,
   "metadata": {
    "collapsed": false
   },
   "outputs": [
    {
     "name": "stdout",
     "output_type": "stream",
     "text": [
      "(1899, 5000)\n"
     ]
    }
   ],
   "source": [
    "print(train_data_features.shape)"
   ]
  },
  {
   "cell_type": "markdown",
   "metadata": {},
   "source": [
    "The shape of the train_data_features above shows that we have 1,899 rows and 5,000 features (one for each vocabulary word)."
   ]
  },
  {
   "cell_type": "code",
   "execution_count": 31,
   "metadata": {
    "collapsed": false
   },
   "outputs": [],
   "source": [
    "vocab = vectorizer.get_feature_names()\n",
    "#print(vocab)"
   ]
  },
  {
   "cell_type": "code",
   "execution_count": 32,
   "metadata": {
    "collapsed": true
   },
   "outputs": [],
   "source": [
    "Xtrain, Xtest, ytrain, ytest = train_test_split(train_data_features, \n",
    "                                                data['Status_change'], \n",
    "                                                random_state=0, \n",
    "                                                train_size=0.7)"
   ]
  },
  {
   "cell_type": "code",
   "execution_count": 33,
   "metadata": {
    "collapsed": false
   },
   "outputs": [
    {
     "data": {
      "text/plain": [
       "0.53333333333333333"
      ]
     },
     "execution_count": 33,
     "metadata": {},
     "output_type": "execute_result"
    }
   ],
   "source": [
    "model5 = RandomForestClassifier(n_estimators = 100)\n",
    "model5 = model5.fit(Xtrain, ytrain)\n",
    "ypred5 = model5.predict(Xtest)\n",
    "accuracy_score(ypred5, ytest)"
   ]
  },
  {
   "cell_type": "markdown",
   "metadata": {
    "collapsed": true
   },
   "source": [
    "Again, even with a different model, our accuracy predictions were less than ideal. This suggests two things: 1) there is no correlation between news sources and a positive/negative price change in the market, 2) if there is a correlation between news sorces and stock price changes, then there is something else that could affect the movement of the market, and 3) news data may not have been applicable to the Dow Jones Industry. \n",
    "\n",
    "To better improve the model, I would look for different data, possibly intraday stock quotes along with domestic news articles for that day with a time stamp. For each news article, I would perform sentiment analysis on the whole article instead of just the title for better accuracy of an article's sentiment. I would also look into trying more machine learning algorithms to possibly see which would work best. It would also help to find the actual list of DJIA companies and their corresponding stock quotes and industry for more valuable exploratory data analysis. "
   ]
  },
  {
   "cell_type": "markdown",
   "metadata": {},
   "source": [
    "# Part 4: Bootstrap Line Fitting\n",
    "In this section, we will use bootstrapping to estimate the uncertainty in the slope and intercept of a line fit to data. Our x will be the Volume column in our original tidy data and y will be our stock price change of the DJIA."
   ]
  },
  {
   "cell_type": "code",
   "execution_count": 34,
   "metadata": {
    "collapsed": true
   },
   "outputs": [],
   "source": [
    "data = pd.read_csv(\"/data/thejustinh/DataSentiment.csv\")\n",
    "x = data['Volume']\n",
    "y = data['Stock_change']"
   ]
  },
  {
   "cell_type": "code",
   "execution_count": 35,
   "metadata": {
    "collapsed": true
   },
   "outputs": [],
   "source": [
    "def mse(theta, x, y):\n",
    "    w = theta[0]\n",
    "    b = theta[1]\n",
    "    return np.sum((y - (w*x + b))**2)/(len(x) - 2)"
   ]
  },
  {
   "cell_type": "code",
   "execution_count": 36,
   "metadata": {
    "collapsed": true
   },
   "outputs": [],
   "source": [
    "def fit(x, y):\n",
    "    return minimize(lambda theta: mse(theta, x, y), [1.0, 1.0]).x"
   ]
  },
  {
   "cell_type": "code",
   "execution_count": 37,
   "metadata": {
    "collapsed": false
   },
   "outputs": [
    {
     "data": {
      "text/plain": [
       "(-8.4600075847469537e-08, 19.36586633155115)"
      ]
     },
     "execution_count": 37,
     "metadata": {},
     "output_type": "execute_result"
    }
   ],
   "source": [
    "w_hat, b_hat = fit(x,y)\n",
    "w_hat, b_hat"
   ]
  },
  {
   "cell_type": "code",
   "execution_count": 38,
   "metadata": {
    "collapsed": false
   },
   "outputs": [
    {
     "name": "stderr",
     "output_type": "stream",
     "text": [
      "/opt/conda/lib/python3.5/site-packages/matplotlib/font_manager.py:1297: UserWarning: findfont: Font family ['sans-serif'] not found. Falling back to DejaVu Sans\n",
      "  (prop.get_family(), self.defaultFamily[fontext]))\n"
     ]
    },
    {
     "data": {
      "image/png": "[encoded data removed]",
      "text/plain": [
       "<matplotlib.figure.Figure at 0x7f520048e828>"
      ]
     },
     "metadata": {},
     "output_type": "display_data"
    }
   ],
   "source": [
    "y_pred = w_hat*x + b_hat\n",
    "residuals = y_pred - y\n",
    "plt.hist(residuals, bins=20);\n",
    "plt.grid(True, alpha=0.4);\n",
    "plt.xlabel('Residuals');\n",
    "plt.show()"
   ]
  },
  {
   "cell_type": "code",
   "execution_count": 39,
   "metadata": {
    "collapsed": false
   },
   "outputs": [
    {
     "data": {
      "text/plain": [
       "0.0023971897644888829"
      ]
     },
     "execution_count": 39,
     "metadata": {},
     "output_type": "execute_result"
    }
   ],
   "source": [
    "benchmark_residuals = y.mean() - y\n",
    "R2 = 1.0 - residuals.var()/benchmark_residuals.var()\n",
    "R2"
   ]
  },
  {
   "cell_type": "markdown",
   "metadata": {},
   "source": [
    "Our R^2 value shows that this is no linear correlation between the number of stocks traded for a day and the price change of the DJIA for that same day."
   ]
  },
  {
   "cell_type": "code",
   "execution_count": 40,
   "metadata": {
    "collapsed": true
   },
   "outputs": [],
   "source": [
    "def bootstrap(x, y):\n",
    "    assert len(x)==len(y)\n",
    "    nsamples = len(x)\n",
    "    ind = np.random.randint(0, nsamples, nsamples)\n",
    "    return x[ind], y[ind]"
   ]
  },
  {
   "cell_type": "code",
   "execution_count": 41,
   "metadata": {
    "collapsed": true
   },
   "outputs": [],
   "source": [
    "def bootstrap_fit(x, y, n):\n",
    "    weights = np.empty(n)\n",
    "    intercepts = np.empty(n)\n",
    "    for i in range(n):\n",
    "        xb, yb = bootstrap(x, y)\n",
    "        weights[i], intercepts[i] = fit(xb, yb)\n",
    "    return weights, intercepts"
   ]
  },
  {
   "cell_type": "code",
   "execution_count": 42,
   "metadata": {
    "collapsed": false
   },
   "outputs": [
    {
     "name": "stderr",
     "output_type": "stream",
     "text": [
      "/opt/conda/lib/python3.5/site-packages/matplotlib/font_manager.py:1297: UserWarning: findfont: Font family ['sans-serif'] not found. Falling back to DejaVu Sans\n",
      "  (prop.get_family(), self.defaultFamily[fontext]))\n"
     ]
    },
    {
     "data": {
      "image/png": "[encoded data removed]",
      "text/plain": [
       "<matplotlib.figure.Figure at 0x7f520f9c3b00>"
      ]
     },
     "metadata": {},
     "output_type": "display_data"
    },
    {
     "name": "stdout",
     "output_type": "stream",
     "text": [
      "slope 95% CI: [ -2.15362422e-07   7.37650794e-09]\n",
      "inter 95% CI: [  5.92649286  39.20974591]\n"
     ]
    }
   ],
   "source": [
    "marray, barray = bootstrap_fit(data['Volume'], data['Stock_change'], 50)\n",
    "plt.hist2d(marray, barray, bins=50)\n",
    "plt.xlabel('slope')\n",
    "plt.ylabel('intercept');\n",
    "plt.show()\n",
    "print(\"slope 95% CI:\", np.percentile(marray, (2.5, 97.5)))\n",
    "print(\"inter 95% CI:\", np.percentile(barray, (2.5, 97.5)))"
   ]
  },
  {
   "cell_type": "code",
   "execution_count": null,
   "metadata": {
    "collapsed": true
   },
   "outputs": [],
   "source": []
  }
 ],
 "metadata": {
  "kernelspec": {
   "display_name": "Python 3",
   "language": "python",
   "name": "python3"
  },
  "language_info": {
   "codemirror_mode": {
    "name": "ipython",
    "version": 3
   },
   "file_extension": ".py",
   "mimetype": "text/x-python",
   "name": "python",
   "nbconvert_exporter": "python",
   "pygments_lexer": "ipython3",
   "version": "3.5.2"
  }
 },
 "nbformat": 4,
 "nbformat_minor": 2
}
