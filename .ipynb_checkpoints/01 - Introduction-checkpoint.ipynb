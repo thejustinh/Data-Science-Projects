{
 "cells": [
  {
   "cell_type": "markdown",
   "metadata": {},
   "source": [
    "# 01 - Introduction\n",
    "\n",
    "Volatility, uncertainty, and manipulation are just a few words that come to mind when I picture the stock market. As a previous business major, I was always interested in the stock market and what drives its volatility. I was curious learning about an investor's decision making when choosing a company to invest in and from what I've observed, a person decision is based off what they read or see in the news. In other words, I hypothesize that the market is driven by people's reaction to the news. In this project, I explore the relationships between stock market quotes and news headlines, datasets from Kaggle.\n",
    "\n",
    "## Dataset\n",
    "The dataset used was downloaded off Kaggle and had three .csv files: \n",
    "- 1) RedditNews.csv: A file containing top 25 news articles for each day of the past 8 years.\n",
    "- 2) DJIA_table.csv: A file containg the Dow Jones Industrial Average quotes for the past 8 years. Downloaded directly from Yahoo Finance.\n",
    "- 3) Combined_News_DJIA.csv: A file with the top 25 news articles for each date including a date.\n",
    "\n",
    "## Outline\n",
    "- 01 - Introduction\n",
    "- 02 - Import\n",
    "    - DJIA Dataset\n",
    "    - News Dataset\n",
    "    - Futures and Commodities (Crude Oil, Natural Gas, Gold) Dataset\n",
    "- 03 - Tidy\n",
    "    - Combinding the Datasets by Time\n",
    "- 04 - Exploratory Data Analysis\n",
    "    - Candlestick Charts\n",
    "    - Market Reaction\n",
    "    - Sentiment Analysis\n",
    "- 05 - Modeling\n",
    "    - Part1: Sentiment Analysis on the Stock Market \n",
    "    - Part2: Sentiment Analysis on Futures and Commodities\n",
    "    - Part3: Bag of Words Modeling\n",
    "- 06 - Presentation\n",
    "\n",
    "## Resources Used\n",
    "#### Datasets\n",
    "- https://www.kaggle.com/aaron7sun/stocknews\n",
    "- https://www.quandl.com/collections/futures/cme-wti-crude-oil-futures\n",
    "- https://www.quandl.com/collections/futures/cme-natural-gas-futures\n",
    "- https://www.quandl.com/collections/markets/gold\n",
    "\n",
    "#### Modeling\n",
    "- http://www.nltk.org/_modules/nltk/sentiment/vader.html\n",
    "- https://www.kaggle.com/c/word2vec-nlp-tutorial/details/part-1-for-beginners-bag-of-words"
   ]
  },
  {
   "cell_type": "code",
   "execution_count": null,
   "metadata": {
    "collapsed": true
   },
   "outputs": [],
   "source": []
  }
 ],
 "metadata": {
  "kernelspec": {
   "display_name": "Python 3",
   "language": "python",
   "name": "python3"
  },
  "language_info": {
   "codemirror_mode": {
    "name": "ipython",
    "version": 3
   },
   "file_extension": ".py",
   "mimetype": "text/x-python",
   "name": "python",
   "nbconvert_exporter": "python",
   "pygments_lexer": "ipython3",
   "version": "3.5.2"
  }
 },
 "nbformat": 4,
 "nbformat_minor": 2
}
