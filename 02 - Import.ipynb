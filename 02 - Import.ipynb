{
 "cells": [
  {
   "cell_type": "markdown",
   "metadata": {},
   "source": [
    "# 02 - Import\n",
    "\n",
    "The main dataset I used was downloaded off kaggle with 3 CSV files: https://www.kaggle.com/aaron7sun/stocknews\n",
    "- RedditNews.csv: two columns The first column is the \"date\", and second column is the \"news headlines\". All news are ranked from top to bottom based on how hot they are. Hence, there are 25 lines for each date.\n",
    "- DJIA_table.csv: Downloaded directly from Yahoo Finance: check out the web page for more info.\n",
    "- Combined_News_DJIA.csv: The first column is \"Date\", the second is \"Label\", and the following ones are news headlines ranging from \"Top1\" to \"Top25\".\n",
    "\n",
    "Additionally, if my model for predicting negative or positive point changes in the stock market was not good enough, I imported 3 other data sets to see if my model would be a good approach to predicting the Futures and Commodities market (specifically Crude Oil, Natural Gas, and Gold).\n",
    "- Crude Oil: https://www.quandl.com/collections/futures/cme-wti-crude-oil-futures\n",
    "- Natural Gas: https://www.quandl.com/collections/futures/cme-natural-gas-futures\n",
    "- Gold: https://www.quandl.com/collections/markets/gold\n",
    "\n",
    "Lastly, I used a new python library to futher build on top of my current datasets called Natural Language Tool Kit. As my challenge area, I used this library since it had a well known Sentiment Analysis tool called Vader which assigned polarity scores for a given headline. These polarity scores gave a percentage of a texts positivity, neutrality, and negativity. A compound score is also inclued which is an aggregate score of the three sentiments.\n"
   ]
  },
  {
   "cell_type": "code",
   "execution_count": null,
   "metadata": {
    "collapsed": true
   },
   "outputs": [],
   "source": []
  }
 ],
 "metadata": {
  "kernelspec": {
   "display_name": "Python 3",
   "language": "python",
   "name": "python3"
  },
  "language_info": {
   "codemirror_mode": {
    "name": "ipython",
    "version": 3
   },
   "file_extension": ".py",
   "mimetype": "text/x-python",
   "name": "python",
   "nbconvert_exporter": "python",
   "pygments_lexer": "ipython3",
   "version": "3.5.2"
  }
 },
 "nbformat": 4,
 "nbformat_minor": 2
}
