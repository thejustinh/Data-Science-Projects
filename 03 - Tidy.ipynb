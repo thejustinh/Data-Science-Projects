{
 "cells": [
  {
   "cell_type": "markdown",
   "metadata": {},
   "source": [
    "# 03 - Tidy"
   ]
  },
  {
   "cell_type": "code",
   "execution_count": 1,
   "metadata": {
    "collapsed": true
   },
   "outputs": [],
   "source": [
    "import pandas as pd\n",
    "import numpy as np"
   ]
  },
  {
   "cell_type": "markdown",
   "metadata": {},
   "source": [
    "Data was copied into the data folder from Kaggle."
   ]
  },
  {
   "cell_type": "code",
   "execution_count": 2,
   "metadata": {
    "collapsed": false
   },
   "outputs": [],
   "source": [
    "# Data Given from Kaggle\n",
    "news = pd.read_csv(\"/data/thejustinh/Combined_News_DJIA.csv\")\n",
    "stocks = pd.read_csv(\"/data/thejustinh/DJIA_table.csv\")"
   ]
  },
  {
   "cell_type": "markdown",
   "metadata": {},
   "source": [
    "Tests below show that the data is tidy with our time frame of interest (2008-08-08 to 2016-07-01)."
   ]
  },
  {
   "cell_type": "code",
   "execution_count": 3,
   "metadata": {
    "collapsed": false
   },
   "outputs": [],
   "source": [
    "assert len(news) == len(stocks)\n",
    "assert len(news.loc[(news['Date'] >= '2008-08-08') & (news['Date'] <= '2016-07-01')]) == len(news)\n",
    "assert len(stocks.loc[(stocks['Date'] >= '2008-08-08') & (stocks['Date'] <= '2016-07-01')]) == len(stocks)"
   ]
  },
  {
   "cell_type": "markdown",
   "metadata": {},
   "source": [
    "## Futures/Commodities Data for Crude Oil, Natural Gas, and Gold\n",
    "\n",
    "Below are the datasets for crude oil, natural gas, and gold. As shown below, the datasets are fairly tidy already, however, the timeframe of these datasets are too large/wide compared to our news and stocks data. This time frame is what we must tidy."
   ]
  },
  {
   "cell_type": "code",
   "execution_count": 4,
   "metadata": {
    "collapsed": false,
    "scrolled": true
   },
   "outputs": [
    {
     "name": "stdout",
     "output_type": "stream",
     "text": [
      "\n",
      "********** CRUDE OIL: **********\n",
      "\n",
      "         Date   Open   High    Low  Settle  Change   Wave   Volume  \\\n",
      "0  2017-03-17  48.82  49.20  48.61   48.78    0.03  48.86  25897.0   \n",
      "1  2017-03-16  49.10  49.61  48.45   48.75   -0.11  48.89  58881.0   \n",
      "2  2017-03-15  48.51  49.09  48.17   48.86    1.14  48.63  68435.0   \n",
      "3  2017-03-14  48.37  48.79  47.10   47.72   -0.68  47.67  94135.0   \n",
      "4  2017-03-13  48.40  48.68  47.94   48.40   -0.09  48.35  49577.0   \n",
      "\n",
      "   Prev. Day Open Interest  EFP Volume  EFS Volume  Block Volume  \n",
      "0                  30617.0         NaN         NaN        5887.0  \n",
      "1                  34897.0         NaN         NaN        5482.0  \n",
      "2                  39668.0         NaN         NaN       11732.0  \n",
      "3                  52844.0         NaN         NaN        8319.0  \n",
      "4                  53374.0         NaN         NaN        2838.0  \n",
      "            Date   Open   High    Low  Settle  Change  Wave   Volume  \\\n",
      "2820  2006-02-09  62.68  63.73  62.38   62.62    0.07   NaN  27492.0   \n",
      "2821  2006-02-08  62.96  63.44  62.29   62.55   -0.54   NaN  27539.0   \n",
      "2822  2006-02-07  64.82  64.90  62.81   63.09   -2.02   NaN  29434.0   \n",
      "2823  2006-02-06  66.35  66.50  64.77   65.11   -0.26   NaN  20387.0   \n",
      "2824  2006-02-03  64.77  65.48  63.93   65.37     NaN   NaN  21966.0   \n",
      "\n",
      "      Prev. Day Open Interest  EFP Volume  EFS Volume  Block Volume  \n",
      "2820                  21976.0         0.0         0.0           0.0  \n",
      "2821                  13583.0         0.0         0.0           0.0  \n",
      "2822                  13611.0         0.0         0.0           0.0  \n",
      "2823                  10998.0         0.0         0.0           0.0  \n",
      "2824                  11070.0         0.0         0.0           0.0  \n",
      "\n",
      "********** Natural Gas: **********\n",
      "\n",
      "         Date    Open    High     Low  Settle  Change    Wave  Volume  \\\n",
      "0  2017-03-17  1.5933  1.6078  1.5933  1.5989  0.0047  1.6026  1523.0   \n",
      "1  2017-03-16  1.5970  1.6031  1.5818  1.5942  0.0108  1.5922  1973.0   \n",
      "2  2017-03-15  1.6028  1.6085  1.5800  1.5834 -0.0001  1.5909  2386.0   \n",
      "3  2017-03-14  1.5860  1.5973  1.5644  1.5835  0.0028  1.5749  2357.0   \n",
      "4  2017-03-13  1.5809  1.5908  1.5749  1.5807 -0.0194  1.5832  1743.0   \n",
      "\n",
      "   Prev. Day Open Interest  EFP Volume  EFS Volume  Block Volume  \n",
      "0                   3250.0         NaN         NaN           NaN  \n",
      "1                   3182.0         NaN         NaN           NaN  \n",
      "2                   3357.0         NaN         NaN           NaN  \n",
      "3                   3824.0         NaN         NaN           NaN  \n",
      "4                   3876.0         NaN         NaN           NaN  \n",
      "            Date   Open   High    Low  Settle  Change  Wave   Volume  \\\n",
      "2820  2006-02-09  62.68  63.73  62.38   62.62    0.07   NaN  27492.0   \n",
      "2821  2006-02-08  62.96  63.44  62.29   62.55   -0.54   NaN  27539.0   \n",
      "2822  2006-02-07  64.82  64.90  62.81   63.09   -2.02   NaN  29434.0   \n",
      "2823  2006-02-06  66.35  66.50  64.77   65.11   -0.26   NaN  20387.0   \n",
      "2824  2006-02-03  64.77  65.48  63.93   65.37     NaN   NaN  21966.0   \n",
      "\n",
      "      Prev. Day Open Interest  EFP Volume  EFS Volume  Block Volume  \n",
      "2820                  21976.0         0.0         0.0           0.0  \n",
      "2821                  13583.0         0.0         0.0           0.0  \n",
      "2822                  13611.0         0.0         0.0           0.0  \n",
      "2823                  10998.0         0.0         0.0           0.0  \n",
      "2824                  11070.0         0.0         0.0           0.0  \n",
      "\n",
      "********** Gold: **********\n",
      "\n",
      "         Date    Open    High     Low    Last  Change  Settle  Volume  \\\n",
      "0  2017-03-17  1227.1  1230.9  1227.1  1230.5     3.3  1229.8    26.0   \n",
      "1  2017-03-16  1222.2  1231.4  1222.2  1226.1    26.4  1226.5    47.0   \n",
      "2  2017-03-15  1198.2  1221.2  1197.7  1221.2     1.8  1200.1    36.0   \n",
      "3  2017-03-14  1203.1  1205.9  1196.8  1198.0     0.5  1201.9    22.0   \n",
      "4  2017-03-13  1206.2  1210.0  1202.3  1203.5     1.7  1202.4    35.0   \n",
      "\n",
      "   Previous Day Open Interest  \n",
      "0                        38.0  \n",
      "1                        24.0  \n",
      "2                        26.0  \n",
      "3                        31.0  \n",
      "4                        28.0  \n",
      "            Date   Open   High    Low  Settle  Change  Wave   Volume  \\\n",
      "2820  2006-02-09  62.68  63.73  62.38   62.62    0.07   NaN  27492.0   \n",
      "2821  2006-02-08  62.96  63.44  62.29   62.55   -0.54   NaN  27539.0   \n",
      "2822  2006-02-07  64.82  64.90  62.81   63.09   -2.02   NaN  29434.0   \n",
      "2823  2006-02-06  66.35  66.50  64.77   65.11   -0.26   NaN  20387.0   \n",
      "2824  2006-02-03  64.77  65.48  63.93   65.37     NaN   NaN  21966.0   \n",
      "\n",
      "      Prev. Day Open Interest  EFP Volume  EFS Volume  Block Volume  \n",
      "2820                  21976.0         0.0         0.0           0.0  \n",
      "2821                  13583.0         0.0         0.0           0.0  \n",
      "2822                  13611.0         0.0         0.0           0.0  \n",
      "2823                  10998.0         0.0         0.0           0.0  \n",
      "2824                  11070.0         0.0         0.0           0.0  \n"
     ]
    }
   ],
   "source": [
    "oil = pd.read_csv(\"/data/thejustinh/Crude Oil.csv\")\n",
    "gas = pd.read_csv(\"/data/thejustinh/Natural Gas.csv\")\n",
    "gold = pd.read_csv(\"/data/thejustinh/Gold.csv\")\n",
    "\n",
    "print(\"\\n********** CRUDE OIL: **********\\n\")\n",
    "print(oil.head())\n",
    "print(oil.tail())\n",
    "print(\"\\n********** Natural Gas: **********\\n\")\n",
    "print(gas.head())\n",
    "print(oil.tail())\n",
    "print(\"\\n********** Gold: **********\\n\")\n",
    "print(gold.head())\n",
    "print(oil.tail())"
   ]
  },
  {
   "cell_type": "markdown",
   "metadata": {},
   "source": [
    "## Using A Mask to Select Timeframe\n",
    "\n",
    "For each date column, in our futures/commidities datasets, I used a mask to filter out our desired timeframe as shown below."
   ]
  },
  {
   "cell_type": "code",
   "execution_count": 5,
   "metadata": {
    "collapsed": false
   },
   "outputs": [],
   "source": [
    "oil = oil.loc[(oil['Date'] >= '2008-08-08') & (oil['Date'] <= '2016-07-01')]\n",
    "gas = gas.loc[(gas['Date'] >= '2008-08-08') & (gas['Date'] <= '2016-07-01')]\n",
    "gold = gold.loc[(gold['Date'] >= '2008-08-08') & (gold['Date'] <= '2016-07-01')]"
   ]
  },
  {
   "cell_type": "code",
   "execution_count": 6,
   "metadata": {
    "collapsed": false
   },
   "outputs": [],
   "source": [
    "assert str(oil['Date'][:1]) == str(gas['Date'][:1])"
   ]
  },
  {
   "cell_type": "markdown",
   "metadata": {},
   "source": [
    "## Selecting Columns of Interest"
   ]
  },
  {
   "cell_type": "code",
   "execution_count": 7,
   "metadata": {
    "collapsed": false
   },
   "outputs": [],
   "source": [
    "oil = oil[['Date', 'Open', 'Settle', 'Change', 'Volume']]\n",
    "gas = gas[['Date', 'Open', 'Settle', 'Change', 'Volume']]\n",
    "gold = gold[['Date', 'Open', 'Settle', 'Change', 'Volume']]\n",
    "stocks = stocks[['Date', 'Open', 'High', 'Low', 'Close', 'Volume']]\n",
    "\n",
    "oil.columns = ['Date', 'Oil_Open', 'Oil_Settle', 'Oil_Change', 'Oil_Volume']\n",
    "gas.columns = ['Date', 'Gas_Open', 'Gas_Settle', 'Gas_Change', 'Gas_Volume']\n",
    "gold.columns = ['Date', 'Gold_Open', 'Gold_Settle', 'Gold_Change', 'Gold_Volume']"
   ]
  },
  {
   "cell_type": "markdown",
   "metadata": {},
   "source": [
    "Creating a boolean column where a value is 1 if gas price change for the day is positive, 0 otherwise."
   ]
  },
  {
   "cell_type": "code",
   "execution_count": 8,
   "metadata": {
    "collapsed": false,
    "scrolled": false
   },
   "outputs": [],
   "source": [
    "gas['Gas_Diff'] = gas['Gas_Settle'] - gas['Gas_Open']\n",
    "status = []\n",
    "for x in gas['Gas_Diff']:\n",
    "    if x > 0:\n",
    "        status.append(1)\n",
    "    else:\n",
    "        status.append(0)"
   ]
  },
  {
   "cell_type": "code",
   "execution_count": 9,
   "metadata": {
    "collapsed": true
   },
   "outputs": [],
   "source": [
    "assert len(status) == len(gas)"
   ]
  },
  {
   "cell_type": "code",
   "execution_count": 10,
   "metadata": {
    "collapsed": true
   },
   "outputs": [],
   "source": [
    "gas['Gas_Diff'] = status"
   ]
  },
  {
   "cell_type": "markdown",
   "metadata": {},
   "source": [
    "Creating a boolean column where a value is 1 if Gold price change for the day is positive, 0 otherwise."
   ]
  },
  {
   "cell_type": "code",
   "execution_count": 11,
   "metadata": {
    "collapsed": false
   },
   "outputs": [],
   "source": [
    "gold['Gold_Diff'] = gold['Gold_Settle'] - gold['Gold_Open']\n",
    "status = []\n",
    "for x in gold['Gold_Diff']:\n",
    "    if x > 0:\n",
    "        status.append(1)\n",
    "    else:\n",
    "        status.append(0)"
   ]
  },
  {
   "cell_type": "code",
   "execution_count": 12,
   "metadata": {
    "collapsed": true
   },
   "outputs": [],
   "source": [
    "assert len(status) == len(gold)"
   ]
  },
  {
   "cell_type": "code",
   "execution_count": 13,
   "metadata": {
    "collapsed": true
   },
   "outputs": [],
   "source": [
    "gold['Gold_Diff'] = status"
   ]
  },
  {
   "cell_type": "markdown",
   "metadata": {},
   "source": [
    "Creating a boolean column where a value is 1 if Gold price change for the day is positive, 0 otherwise."
   ]
  },
  {
   "cell_type": "code",
   "execution_count": 14,
   "metadata": {
    "collapsed": false
   },
   "outputs": [],
   "source": [
    "oil['Oil_Diff'] = oil['Oil_Settle'] - oil['Oil_Open']\n",
    "status = []\n",
    "for x in oil['Oil_Diff']:\n",
    "    if x > 0:\n",
    "        status.append(1)\n",
    "    else:\n",
    "        status.append(0)"
   ]
  },
  {
   "cell_type": "code",
   "execution_count": 15,
   "metadata": {
    "collapsed": true
   },
   "outputs": [],
   "source": [
    "assert len(status) == len(oil)"
   ]
  },
  {
   "cell_type": "code",
   "execution_count": 16,
   "metadata": {
    "collapsed": true
   },
   "outputs": [],
   "source": [
    "oil['Oil_Diff'] = status"
   ]
  },
  {
   "cell_type": "markdown",
   "metadata": {},
   "source": [
    "## Combining all the Stock Quote datasets (not including News Dataset)"
   ]
  },
  {
   "cell_type": "code",
   "execution_count": 17,
   "metadata": {
    "collapsed": false
   },
   "outputs": [
    {
     "data": {
      "text/html": [
       "<div>\n",
       "<table border=\"1\" class=\"dataframe\">\n",
       "  <thead>\n",
       "    <tr style=\"text-align: right;\">\n",
       "      <th></th>\n",
       "      <th>Date</th>\n",
       "      <th>Open</th>\n",
       "      <th>High</th>\n",
       "      <th>Low</th>\n",
       "      <th>Close</th>\n",
       "      <th>Volume</th>\n",
       "      <th>Oil_Open</th>\n",
       "      <th>Oil_Settle</th>\n",
       "      <th>Oil_Change</th>\n",
       "      <th>Oil_Volume</th>\n",
       "      <th>...</th>\n",
       "      <th>Gas_Open</th>\n",
       "      <th>Gas_Settle</th>\n",
       "      <th>Gas_Change</th>\n",
       "      <th>Gas_Volume</th>\n",
       "      <th>Gas_Diff</th>\n",
       "      <th>Gold_Open</th>\n",
       "      <th>Gold_Settle</th>\n",
       "      <th>Gold_Change</th>\n",
       "      <th>Gold_Volume</th>\n",
       "      <th>Gold_Diff</th>\n",
       "    </tr>\n",
       "  </thead>\n",
       "  <tbody>\n",
       "    <tr>\n",
       "      <th>0</th>\n",
       "      <td>2016-07-01</td>\n",
       "      <td>17924.240234</td>\n",
       "      <td>18002.380859</td>\n",
       "      <td>17916.910156</td>\n",
       "      <td>17949.369141</td>\n",
       "      <td>82160000</td>\n",
       "      <td>48.46</td>\n",
       "      <td>48.99</td>\n",
       "      <td>0.66</td>\n",
       "      <td>19932.0</td>\n",
       "      <td>...</td>\n",
       "      <td>1.4796</td>\n",
       "      <td>1.5135</td>\n",
       "      <td>0.0122</td>\n",
       "      <td>1547.0</td>\n",
       "      <td>1</td>\n",
       "      <td>1324.8</td>\n",
       "      <td>1339.0</td>\n",
       "      <td>18.4</td>\n",
       "      <td>210315.0</td>\n",
       "      <td>1</td>\n",
       "    </tr>\n",
       "    <tr>\n",
       "      <th>1</th>\n",
       "      <td>2016-06-30</td>\n",
       "      <td>17712.759766</td>\n",
       "      <td>17930.609375</td>\n",
       "      <td>17711.800781</td>\n",
       "      <td>17929.990234</td>\n",
       "      <td>133030000</td>\n",
       "      <td>49.54</td>\n",
       "      <td>48.33</td>\n",
       "      <td>-1.55</td>\n",
       "      <td>34723.0</td>\n",
       "      <td>...</td>\n",
       "      <td>1.5109</td>\n",
       "      <td>1.5013</td>\n",
       "      <td>-0.0370</td>\n",
       "      <td>596.0</td>\n",
       "      <td>0</td>\n",
       "      <td>1321.0</td>\n",
       "      <td>1320.6</td>\n",
       "      <td>6.3</td>\n",
       "      <td>183612.0</td>\n",
       "      <td>0</td>\n",
       "    </tr>\n",
       "    <tr>\n",
       "      <th>2</th>\n",
       "      <td>2016-06-29</td>\n",
       "      <td>17456.019531</td>\n",
       "      <td>17704.509766</td>\n",
       "      <td>17456.019531</td>\n",
       "      <td>17694.679688</td>\n",
       "      <td>106380000</td>\n",
       "      <td>48.23</td>\n",
       "      <td>49.88</td>\n",
       "      <td>2.03</td>\n",
       "      <td>48243.0</td>\n",
       "      <td>...</td>\n",
       "      <td>1.5240</td>\n",
       "      <td>1.5383</td>\n",
       "      <td>0.0184</td>\n",
       "      <td>3220.0</td>\n",
       "      <td>1</td>\n",
       "      <td>1313.9</td>\n",
       "      <td>1326.9</td>\n",
       "      <td>9.0</td>\n",
       "      <td>165531.0</td>\n",
       "      <td>1</td>\n",
       "    </tr>\n",
       "    <tr>\n",
       "      <th>3</th>\n",
       "      <td>2016-06-28</td>\n",
       "      <td>17190.509766</td>\n",
       "      <td>17409.720703</td>\n",
       "      <td>17190.509766</td>\n",
       "      <td>17409.720703</td>\n",
       "      <td>112190000</td>\n",
       "      <td>46.73</td>\n",
       "      <td>47.85</td>\n",
       "      <td>1.52</td>\n",
       "      <td>48103.0</td>\n",
       "      <td>...</td>\n",
       "      <td>1.5057</td>\n",
       "      <td>1.5100</td>\n",
       "      <td>0.0333</td>\n",
       "      <td>486.0</td>\n",
       "      <td>1</td>\n",
       "      <td>1314.8</td>\n",
       "      <td>1315.3</td>\n",
       "      <td>7.2</td>\n",
       "      <td>20.0</td>\n",
       "      <td>1</td>\n",
       "    </tr>\n",
       "    <tr>\n",
       "      <th>4</th>\n",
       "      <td>2016-06-27</td>\n",
       "      <td>17355.210938</td>\n",
       "      <td>17355.210938</td>\n",
       "      <td>17063.080078</td>\n",
       "      <td>17140.240234</td>\n",
       "      <td>138740000</td>\n",
       "      <td>47.63</td>\n",
       "      <td>46.33</td>\n",
       "      <td>-1.31</td>\n",
       "      <td>41059.0</td>\n",
       "      <td>...</td>\n",
       "      <td>1.5242</td>\n",
       "      <td>1.4767</td>\n",
       "      <td>-0.0483</td>\n",
       "      <td>1363.0</td>\n",
       "      <td>0</td>\n",
       "      <td>1330.0</td>\n",
       "      <td>1322.5</td>\n",
       "      <td>2.5</td>\n",
       "      <td>92.0</td>\n",
       "      <td>0</td>\n",
       "    </tr>\n",
       "  </tbody>\n",
       "</table>\n",
       "<p>5 rows × 21 columns</p>\n",
       "</div>"
      ],
      "text/plain": [
       "         Date          Open          High           Low         Close  \\\n",
       "0  2016-07-01  17924.240234  18002.380859  17916.910156  17949.369141   \n",
       "1  2016-06-30  17712.759766  17930.609375  17711.800781  17929.990234   \n",
       "2  2016-06-29  17456.019531  17704.509766  17456.019531  17694.679688   \n",
       "3  2016-06-28  17190.509766  17409.720703  17190.509766  17409.720703   \n",
       "4  2016-06-27  17355.210938  17355.210938  17063.080078  17140.240234   \n",
       "\n",
       "      Volume  Oil_Open  Oil_Settle  Oil_Change  Oil_Volume    ...      \\\n",
       "0   82160000     48.46       48.99        0.66     19932.0    ...       \n",
       "1  133030000     49.54       48.33       -1.55     34723.0    ...       \n",
       "2  106380000     48.23       49.88        2.03     48243.0    ...       \n",
       "3  112190000     46.73       47.85        1.52     48103.0    ...       \n",
       "4  138740000     47.63       46.33       -1.31     41059.0    ...       \n",
       "\n",
       "   Gas_Open  Gas_Settle  Gas_Change  Gas_Volume  Gas_Diff  Gold_Open  \\\n",
       "0    1.4796      1.5135      0.0122      1547.0         1     1324.8   \n",
       "1    1.5109      1.5013     -0.0370       596.0         0     1321.0   \n",
       "2    1.5240      1.5383      0.0184      3220.0         1     1313.9   \n",
       "3    1.5057      1.5100      0.0333       486.0         1     1314.8   \n",
       "4    1.5242      1.4767     -0.0483      1363.0         0     1330.0   \n",
       "\n",
       "   Gold_Settle  Gold_Change  Gold_Volume  Gold_Diff  \n",
       "0       1339.0         18.4     210315.0          1  \n",
       "1       1320.6          6.3     183612.0          0  \n",
       "2       1326.9          9.0     165531.0          1  \n",
       "3       1315.3          7.2         20.0          1  \n",
       "4       1322.5          2.5         92.0          0  \n",
       "\n",
       "[5 rows x 21 columns]"
      ]
     },
     "execution_count": 17,
     "metadata": {},
     "output_type": "execute_result"
    }
   ],
   "source": [
    "table = pd.merge(pd.merge(stocks,oil), pd.merge(gas, gold))\n",
    "table.head()"
   ]
  },
  {
   "cell_type": "code",
   "execution_count": 18,
   "metadata": {
    "collapsed": false
   },
   "outputs": [],
   "source": [
    "assert list(table.columns) == ['Date', 'Open', 'High', 'Low', 'Close', 'Volume', 'Oil_Open',\n",
    "                         'Oil_Settle', 'Oil_Change', 'Oil_Volume', 'Oil_Diff', 'Gas_Open',\n",
    "                         'Gas_Settle', 'Gas_Change', 'Gas_Volume', 'Gas_Diff', 'Gold_Open',\n",
    "                         'Gold_Settle', 'Gold_Change', 'Gold_Volume', 'Gold_Diff']"
   ]
  },
  {
   "cell_type": "code",
   "execution_count": 19,
   "metadata": {
    "collapsed": true
   },
   "outputs": [],
   "source": [
    "table.to_csv('/data/thejustinh/TidyQuotes.csv')"
   ]
  },
  {
   "cell_type": "markdown",
   "metadata": {},
   "source": [
    "## Combining New Stock Quote Table with News Data"
   ]
  },
  {
   "cell_type": "code",
   "execution_count": 20,
   "metadata": {
    "collapsed": false
   },
   "outputs": [
    {
     "data": {
      "text/html": [
       "<div>\n",
       "<table border=\"1\" class=\"dataframe\">\n",
       "  <thead>\n",
       "    <tr style=\"text-align: right;\">\n",
       "      <th></th>\n",
       "      <th>Date</th>\n",
       "      <th>Open</th>\n",
       "      <th>High</th>\n",
       "      <th>Low</th>\n",
       "      <th>Close</th>\n",
       "      <th>Volume</th>\n",
       "      <th>Oil_Open</th>\n",
       "      <th>Oil_Settle</th>\n",
       "      <th>Oil_Change</th>\n",
       "      <th>Oil_Volume</th>\n",
       "      <th>...</th>\n",
       "      <th>Top16</th>\n",
       "      <th>Top17</th>\n",
       "      <th>Top18</th>\n",
       "      <th>Top19</th>\n",
       "      <th>Top20</th>\n",
       "      <th>Top21</th>\n",
       "      <th>Top22</th>\n",
       "      <th>Top23</th>\n",
       "      <th>Top24</th>\n",
       "      <th>Top25</th>\n",
       "    </tr>\n",
       "  </thead>\n",
       "  <tbody>\n",
       "    <tr>\n",
       "      <th>0</th>\n",
       "      <td>2016-07-01</td>\n",
       "      <td>17924.240234</td>\n",
       "      <td>18002.380859</td>\n",
       "      <td>17916.910156</td>\n",
       "      <td>17949.369141</td>\n",
       "      <td>82160000</td>\n",
       "      <td>48.46</td>\n",
       "      <td>48.99</td>\n",
       "      <td>0.66</td>\n",
       "      <td>19932.0</td>\n",
       "      <td>...</td>\n",
       "      <td>The United States has placed Myanmar, Uzbekist...</td>\n",
       "      <td>S&amp;amp;P revises European Union credit rating t...</td>\n",
       "      <td>India gets $1 billion loan from World Bank for...</td>\n",
       "      <td>U.S. sailors detained by Iran spoke too much u...</td>\n",
       "      <td>Mass fish kill in Vietnam solved as Taiwan ste...</td>\n",
       "      <td>Philippines president Rodrigo Duterte urges pe...</td>\n",
       "      <td>Spain arrests three Pakistanis accused of prom...</td>\n",
       "      <td>Venezuela, where anger over food shortages is ...</td>\n",
       "      <td>A Hindu temple worker has been killed by three...</td>\n",
       "      <td>Ozone layer hole seems to be healing - US &amp;amp...</td>\n",
       "    </tr>\n",
       "    <tr>\n",
       "      <th>1</th>\n",
       "      <td>2016-06-30</td>\n",
       "      <td>17712.759766</td>\n",
       "      <td>17930.609375</td>\n",
       "      <td>17711.800781</td>\n",
       "      <td>17929.990234</td>\n",
       "      <td>133030000</td>\n",
       "      <td>49.54</td>\n",
       "      <td>48.33</td>\n",
       "      <td>-1.55</td>\n",
       "      <td>34723.0</td>\n",
       "      <td>...</td>\n",
       "      <td>Googles free wifi at Indian railway stations i...</td>\n",
       "      <td>Mounting evidence suggests 'hobbits' were wipe...</td>\n",
       "      <td>The men who carried out Tuesday's terror attac...</td>\n",
       "      <td>Calls to suspend Saudi Arabia from UN Human Ri...</td>\n",
       "      <td>More Than 100 Nobel Laureates Call Out Greenpe...</td>\n",
       "      <td>British pedophile sentenced to 85 years in US ...</td>\n",
       "      <td>US permitted 1,200 offshore fracks in Gulf of ...</td>\n",
       "      <td>We will be swimming in ridicule - French beach...</td>\n",
       "      <td>UEFA says no minutes of silence for Istanbul v...</td>\n",
       "      <td>Law Enforcement Sources: Gun Used in Paris Ter...</td>\n",
       "    </tr>\n",
       "    <tr>\n",
       "      <th>2</th>\n",
       "      <td>2016-06-29</td>\n",
       "      <td>17456.019531</td>\n",
       "      <td>17704.509766</td>\n",
       "      <td>17456.019531</td>\n",
       "      <td>17694.679688</td>\n",
       "      <td>106380000</td>\n",
       "      <td>48.23</td>\n",
       "      <td>49.88</td>\n",
       "      <td>2.03</td>\n",
       "      <td>48243.0</td>\n",
       "      <td>...</td>\n",
       "      <td>Escape Tunnel, Dug by Hand, Is Found at Holoca...</td>\n",
       "      <td>The land under Beijing is sinking by as much a...</td>\n",
       "      <td>Car bomb and Anti-Islamic attack on Mosque in ...</td>\n",
       "      <td>Emaciated lions in Taiz Zoo are trapped in blo...</td>\n",
       "      <td>Rupert Murdoch describes Brexit as 'wonderful'...</td>\n",
       "      <td>More than 40 killed in Yemen suicide attacks</td>\n",
       "      <td>Google Found Disastrous Symantec and Norton Vu...</td>\n",
       "      <td>Extremist violence on the rise in Germany: Dom...</td>\n",
       "      <td>BBC News: Labour MPs pass Corbyn no-confidence...</td>\n",
       "      <td>Tiny New Zealand town with 'too many jobs' lau...</td>\n",
       "    </tr>\n",
       "    <tr>\n",
       "      <th>3</th>\n",
       "      <td>2016-06-28</td>\n",
       "      <td>17190.509766</td>\n",
       "      <td>17409.720703</td>\n",
       "      <td>17190.509766</td>\n",
       "      <td>17409.720703</td>\n",
       "      <td>112190000</td>\n",
       "      <td>46.73</td>\n",
       "      <td>47.85</td>\n",
       "      <td>1.52</td>\n",
       "      <td>48103.0</td>\n",
       "      <td>...</td>\n",
       "      <td>US, Canada and Mexico pledge 50% of power from...</td>\n",
       "      <td>There is increasing evidence that Australia is...</td>\n",
       "      <td>Richard Branson, the founder of Virgin Group, ...</td>\n",
       "      <td>37,000-yr-old skull from Borneo reveals surpri...</td>\n",
       "      <td>Palestinians stone Western Wall worshipers; po...</td>\n",
       "      <td>Jean-Claude Juncker asks Farage: Why are you h...</td>\n",
       "      <td>\"Romanians for Remainians\" offering a new home...</td>\n",
       "      <td>Brexit: Gibraltar in talks with Scotland to st...</td>\n",
       "      <td>8 Suicide Bombers Strike Lebanon</td>\n",
       "      <td>Mexico's security forces routinely use 'sexual...</td>\n",
       "    </tr>\n",
       "    <tr>\n",
       "      <th>4</th>\n",
       "      <td>2016-06-27</td>\n",
       "      <td>17355.210938</td>\n",
       "      <td>17355.210938</td>\n",
       "      <td>17063.080078</td>\n",
       "      <td>17140.240234</td>\n",
       "      <td>138740000</td>\n",
       "      <td>47.63</td>\n",
       "      <td>46.33</td>\n",
       "      <td>-1.31</td>\n",
       "      <td>41059.0</td>\n",
       "      <td>...</td>\n",
       "      <td>German lawyers to probe Erdogan over alleged w...</td>\n",
       "      <td>Boris Johnson says the UK will continue to \"in...</td>\n",
       "      <td>Richard Branson is calling on the UK governmen...</td>\n",
       "      <td>Turkey 'sorry for downing Russian jet'</td>\n",
       "      <td>Edward Snowden lawyer vows new push for pardon...</td>\n",
       "      <td>Brexit opinion poll reveals majority don't wan...</td>\n",
       "      <td>Conservative MP Leave Campaigner: \"The leave c...</td>\n",
       "      <td>Economists predict UK recession, further weake...</td>\n",
       "      <td>New EU 'superstate plan by France, Germany: Cr...</td>\n",
       "      <td>Pakistani clerics declare transgender marriage...</td>\n",
       "    </tr>\n",
       "  </tbody>\n",
       "</table>\n",
       "<p>5 rows × 47 columns</p>\n",
       "</div>"
      ],
      "text/plain": [
       "         Date          Open          High           Low         Close  \\\n",
       "0  2016-07-01  17924.240234  18002.380859  17916.910156  17949.369141   \n",
       "1  2016-06-30  17712.759766  17930.609375  17711.800781  17929.990234   \n",
       "2  2016-06-29  17456.019531  17704.509766  17456.019531  17694.679688   \n",
       "3  2016-06-28  17190.509766  17409.720703  17190.509766  17409.720703   \n",
       "4  2016-06-27  17355.210938  17355.210938  17063.080078  17140.240234   \n",
       "\n",
       "      Volume  Oil_Open  Oil_Settle  Oil_Change  Oil_Volume  \\\n",
       "0   82160000     48.46       48.99        0.66     19932.0   \n",
       "1  133030000     49.54       48.33       -1.55     34723.0   \n",
       "2  106380000     48.23       49.88        2.03     48243.0   \n",
       "3  112190000     46.73       47.85        1.52     48103.0   \n",
       "4  138740000     47.63       46.33       -1.31     41059.0   \n",
       "\n",
       "                         ...                          \\\n",
       "0                        ...                           \n",
       "1                        ...                           \n",
       "2                        ...                           \n",
       "3                        ...                           \n",
       "4                        ...                           \n",
       "\n",
       "                                               Top16  \\\n",
       "0  The United States has placed Myanmar, Uzbekist...   \n",
       "1  Googles free wifi at Indian railway stations i...   \n",
       "2  Escape Tunnel, Dug by Hand, Is Found at Holoca...   \n",
       "3  US, Canada and Mexico pledge 50% of power from...   \n",
       "4  German lawyers to probe Erdogan over alleged w...   \n",
       "\n",
       "                                               Top17  \\\n",
       "0  S&amp;P revises European Union credit rating t...   \n",
       "1  Mounting evidence suggests 'hobbits' were wipe...   \n",
       "2  The land under Beijing is sinking by as much a...   \n",
       "3  There is increasing evidence that Australia is...   \n",
       "4  Boris Johnson says the UK will continue to \"in...   \n",
       "\n",
       "                                               Top18  \\\n",
       "0  India gets $1 billion loan from World Bank for...   \n",
       "1  The men who carried out Tuesday's terror attac...   \n",
       "2  Car bomb and Anti-Islamic attack on Mosque in ...   \n",
       "3  Richard Branson, the founder of Virgin Group, ...   \n",
       "4  Richard Branson is calling on the UK governmen...   \n",
       "\n",
       "                                               Top19  \\\n",
       "0  U.S. sailors detained by Iran spoke too much u...   \n",
       "1  Calls to suspend Saudi Arabia from UN Human Ri...   \n",
       "2  Emaciated lions in Taiz Zoo are trapped in blo...   \n",
       "3  37,000-yr-old skull from Borneo reveals surpri...   \n",
       "4             Turkey 'sorry for downing Russian jet'   \n",
       "\n",
       "                                               Top20  \\\n",
       "0  Mass fish kill in Vietnam solved as Taiwan ste...   \n",
       "1  More Than 100 Nobel Laureates Call Out Greenpe...   \n",
       "2  Rupert Murdoch describes Brexit as 'wonderful'...   \n",
       "3  Palestinians stone Western Wall worshipers; po...   \n",
       "4  Edward Snowden lawyer vows new push for pardon...   \n",
       "\n",
       "                                               Top21  \\\n",
       "0  Philippines president Rodrigo Duterte urges pe...   \n",
       "1  British pedophile sentenced to 85 years in US ...   \n",
       "2       More than 40 killed in Yemen suicide attacks   \n",
       "3  Jean-Claude Juncker asks Farage: Why are you h...   \n",
       "4  Brexit opinion poll reveals majority don't wan...   \n",
       "\n",
       "                                               Top22  \\\n",
       "0  Spain arrests three Pakistanis accused of prom...   \n",
       "1  US permitted 1,200 offshore fracks in Gulf of ...   \n",
       "2  Google Found Disastrous Symantec and Norton Vu...   \n",
       "3  \"Romanians for Remainians\" offering a new home...   \n",
       "4  Conservative MP Leave Campaigner: \"The leave c...   \n",
       "\n",
       "                                               Top23  \\\n",
       "0  Venezuela, where anger over food shortages is ...   \n",
       "1  We will be swimming in ridicule - French beach...   \n",
       "2  Extremist violence on the rise in Germany: Dom...   \n",
       "3  Brexit: Gibraltar in talks with Scotland to st...   \n",
       "4  Economists predict UK recession, further weake...   \n",
       "\n",
       "                                               Top24  \\\n",
       "0  A Hindu temple worker has been killed by three...   \n",
       "1  UEFA says no minutes of silence for Istanbul v...   \n",
       "2  BBC News: Labour MPs pass Corbyn no-confidence...   \n",
       "3                   8 Suicide Bombers Strike Lebanon   \n",
       "4  New EU 'superstate plan by France, Germany: Cr...   \n",
       "\n",
       "                                               Top25  \n",
       "0  Ozone layer hole seems to be healing - US &amp...  \n",
       "1  Law Enforcement Sources: Gun Used in Paris Ter...  \n",
       "2  Tiny New Zealand town with 'too many jobs' lau...  \n",
       "3  Mexico's security forces routinely use 'sexual...  \n",
       "4  Pakistani clerics declare transgender marriage...  \n",
       "\n",
       "[5 rows x 47 columns]"
      ]
     },
     "execution_count": 20,
     "metadata": {},
     "output_type": "execute_result"
    }
   ],
   "source": [
    "table2 = pd.merge(table, news)\n",
    "table2.head()"
   ]
  },
  {
   "cell_type": "code",
   "execution_count": 21,
   "metadata": {
    "collapsed": true
   },
   "outputs": [],
   "source": [
    "table2.to_csv('/data/thejustinh/TidyData.csv')"
   ]
  }
 ],
 "metadata": {
  "kernelspec": {
   "display_name": "Python 3",
   "language": "python",
   "name": "python3"
  },
  "language_info": {
   "codemirror_mode": {
    "name": "ipython",
    "version": 3
   },
   "file_extension": ".py",
   "mimetype": "text/x-python",
   "name": "python",
   "nbconvert_exporter": "python",
   "pygments_lexer": "ipython3",
   "version": "3.5.2"
  }
 },
 "nbformat": 4,
 "nbformat_minor": 2
}
